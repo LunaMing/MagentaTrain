{
  "nbformat": 4,
  "nbformat_minor": 0,
  "metadata": {
    "colab": {
      "name": "Magenta_test.ipynb",
      "provenance": [],
      "include_colab_link": true
    },
    "kernelspec": {
      "name": "python3",
      "display_name": "Python 3"
    },
    "accelerator": "GPU"
  },
  "cells": [
    {
      "cell_type": "markdown",
      "metadata": {
        "id": "view-in-github",
        "colab_type": "text"
      },
      "source": [
        "<a href=\"https://colab.research.google.com/github/LunaMing/MagentaTrain/blob/master/Magenta_test.ipynb\" target=\"_parent\"><img src=\"https://colab.research.google.com/assets/colab-badge.svg\" alt=\"Open In Colab\"/></a>"
      ]
    },
    {
      "cell_type": "markdown",
      "metadata": {
        "id": "MNbvW_OABC3Q",
        "colab_type": "text"
      },
      "source": [
        "# **先开！GPU！**\n",
        "代码执行程序->更改运行时类型\n",
        "在里面选GPU"
      ]
    },
    {
      "cell_type": "markdown",
      "metadata": {
        "id": "BUIRfXmx69tK",
        "colab_type": "text"
      },
      "source": [
        "# 安装magenta"
      ]
    },
    {
      "cell_type": "code",
      "metadata": {
        "id": "Z_jo5uu857oW",
        "colab_type": "code",
        "colab": {}
      },
      "source": [
        "#@test {\"output\": \"ignore\"}\n",
        "%tensorflow_version 1.x\n",
        "\n",
        "print('Installing dependencies...')\n",
        "!apt-get update -qq && apt-get install -qq libfluidsynth1 fluid-soundfont-gm build-essential libasound2-dev libjack-dev\n",
        "!pip install -qU pyfluidsynth pretty_midi\n",
        "\n",
        "!pip install -qU magenta\n",
        "\n",
        "# Hack to allow python to pick up the newly-installed fluidsynth lib. \n",
        "# This is only needed for the hosted Colab environment.\n",
        "import ctypes.util\n",
        "orig_ctypes_util_find_library = ctypes.util.find_library\n",
        "def proxy_find_library(lib):\n",
        "  if lib == 'fluidsynth':\n",
        "    return 'libfluidsynth.so.1'\n",
        "  else:\n",
        "    return orig_ctypes_util_find_library(lib)\n",
        "ctypes.util.find_library = proxy_find_library\n",
        "\n",
        "print('Importing libraries and defining some helper functions...')\n",
        "from google.colab import files\n",
        "\n",
        "import magenta.music as mm\n",
        "import magenta\n",
        "import tensorflow\n",
        "\n",
        "print('🎉 Done!')\n",
        "print(magenta.__version__)\n",
        "print(tensorflow.__version__)"
      ],
      "execution_count": 0,
      "outputs": []
    },
    {
      "cell_type": "markdown",
      "metadata": {
        "id": "OUTaK5447Uan",
        "colab_type": "text"
      },
      "source": [
        "# 生成一个旋律（预训练模型）\n"
      ]
    },
    {
      "cell_type": "markdown",
      "metadata": {
        "id": "tO-buCXtA6WJ",
        "colab_type": "text"
      },
      "source": [
        "记得导入attention_rnn.mag，就直接拖进来。"
      ]
    },
    {
      "cell_type": "code",
      "metadata": {
        "id": "vxM4zNyi68sa",
        "colab_type": "code",
        "colab": {}
      },
      "source": [
        "!melody_rnn_generate \\\n",
        "--config='attention_rnn' \\\n",
        "--bundle_file=/content/attention_rnn.mag \\\n",
        "--output_dir=/content/melody_rnn/generated \\\n",
        "--num_outputs=10 \\\n",
        "--num_steps=128 \\\n",
        "--primer_melody=\"[60]\""
      ],
      "execution_count": 0,
      "outputs": []
    },
    {
      "cell_type": "markdown",
      "metadata": {
        "id": "Hrzf8tyKBX8b",
        "colab_type": "text"
      },
      "source": [
        "以“小星星”为旋律引子作曲；\n",
        "就是添加了：60, -2, 60, -2, 67, -2, 67, -2"
      ]
    },
    {
      "cell_type": "code",
      "metadata": {
        "id": "goHQxUY__i-H",
        "colab_type": "code",
        "colab": {}
      },
      "source": [
        "!melody_rnn_generate \\\n",
        "--config='attention_rnn' \\\n",
        "--bundle_file=/content/attention_rnn.mag \\\n",
        "--output_dir=/content/melody_rnn/generated \\\n",
        "--num_outputs=10 \\\n",
        "--num_steps=128 \\\n",
        "--primer_melody=\"[60, -2, 60, -2, 67, -2, 67, -2]\""
      ],
      "execution_count": 0,
      "outputs": []
    },
    {
      "cell_type": "markdown",
      "metadata": {
        "id": "BB4xmeD-Cebv",
        "colab_type": "text"
      },
      "source": [
        "# 构建数据集"
      ]
    },
    {
      "cell_type": "markdown",
      "metadata": {
        "id": "w5PqWRPfDR0P",
        "colab_type": "text"
      },
      "source": [
        "新建一个mid_input文件夹，将要训练的mid文件上传"
      ]
    },
    {
      "cell_type": "code",
      "metadata": {
        "id": "O6Ff75UtCcom",
        "colab_type": "code",
        "colab": {}
      },
      "source": [
        "!convert_dir_to_note_sequences \\\n",
        "  --input_dir=/content/mid_input \\\n",
        "  --output_file=/content/notesequences.tfrecord \\\n",
        "  --recursive"
      ],
      "execution_count": 0,
      "outputs": []
    },
    {
      "cell_type": "markdown",
      "metadata": {
        "id": "zhkaPOJQDsct",
        "colab_type": "text"
      },
      "source": [
        "# 创建SequenceExamples"
      ]
    },
    {
      "cell_type": "code",
      "metadata": {
        "id": "1ktBFteNDrF4",
        "colab_type": "code",
        "colab": {}
      },
      "source": [
        "!melody_rnn_create_dataset \\\n",
        "--config='attention_rnn' \\\n",
        "--input=/content/notesequences.tfrecord \\\n",
        "--output_dir=/content/melody_rnn/sequence_examples \\\n",
        "--eval_ratio=0.10"
      ],
      "execution_count": 0,
      "outputs": []
    },
    {
      "cell_type": "markdown",
      "metadata": {
        "id": "C8m7ru7lD85Q",
        "colab_type": "text"
      },
      "source": [
        "# 训练和验证模型"
      ]
    },
    {
      "cell_type": "code",
      "metadata": {
        "id": "yNDB0xMlD-oN",
        "colab_type": "code",
        "colab": {}
      },
      "source": [
        "!melody_rnn_train \\\n",
        "--config=attention_rnn \\\n",
        "--run_dir=/content/melody_rnn/logdir/run1 \\\n",
        "--sequence_example_file=/content/melody_rnn/sequence_examples/training_melodies.tfrecord \\\n",
        "--hparams=\"batch_size=64,rnn_layer_sizes=[64,64]\" \\\n",
        "--num_training_steps=20000"
      ],
      "execution_count": 0,
      "outputs": []
    },
    {
      "cell_type": "code",
      "metadata": {
        "id": "3z7dYZeWELjb",
        "colab_type": "code",
        "colab": {}
      },
      "source": [
        "# Load the TensorBoard notebook extension\n",
        "%load_ext tensorboard\n",
        "%tensorboard --logdir /content/melody_rnn/logdir"
      ],
      "execution_count": 0,
      "outputs": []
    }
  ]
}